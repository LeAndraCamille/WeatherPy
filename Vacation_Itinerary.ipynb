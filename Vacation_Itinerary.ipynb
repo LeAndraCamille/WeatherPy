Deliverable 3. Create a Travel Itinerary Map.
# Dependencies and Setup
import pandas as pd
import requests
import gmaps
import numpy as np

# Import API key
from config import g_key

# Configure gmaps
gmaps.configure(api_key=g_key)
# 1. Read the WeatherPy_vacation.csv into a DataFrame.
vacation_df = pd.read_csv("/Users/claudiabrito/Desktop/Class/World_Weather_Analysis/Vacation_Search/weatherpy_vacation.csv")
vacation_df.head()
City_ID	City	Country	Max Temp	Current Description	Lat	Lng	Hotel Name
0	0	Port Hueneme	US	89.24	clear sky	34.1478	-119.1951	Hampton Inn Channel Islands Harbor
1	3	Komsomolskiy	UZ	83.12	clear sky	40.4272	71.7189	Ikathouse
2	4	Lewistown	US	75.72	overcast clouds	40.5992	-77.5714	Quality Inn & Suites
3	20	Butaritari	KI	81.14	light rain	3.0707	172.7902	Isles Sunset Lodge
4	26	Dasoguz	TM	85.95	clear sky	41.8363	59.9666	Hotel Erik
# 2. Using the template add the city name, the country code, the weather description and maximum temperature for the city.
info_box_template = """
<dl>
<dt>Hotel Name</dt><dd>{Hotel Name}</dd>
<dt>City</dt><dd>{City}</dd>
<dt>Country</dt><dd>{Country}</dd>
<dt>Weather Description</dt><dd>{Current Description}</dd>
<dt>Max Temp</dt><dd>{Max Temp} °F</dd>
</dl>
"""

# 3a. Get the data from each row and add it to the formatting template and store the data in a list.
hotel_info = [info_box_template.format(**row) for index, row in vacation_df.iterrows()]

# 3b. Get the latitude and longitude from each row and store in a new DataFrame.
locations = vacation_df[["Lat", "Lng"]]
# 4a. Add a marker layer for each city to the map.
fig = gmaps.figure(center=(30.0, 31.0), zoom_level=1.4)
marker_layer = gmaps.marker_layer(locations, info_box_content=hotel_info)
fig.add_layer(marker_layer)

# 4b. Display the figure
fig
Figure(layout=FigureLayout(height='420px'))
# From the map above pick 4 cities and create a vacation itinerary route to travel between the four cities. 
# 5. Create DataFrames for each city by filtering the 'vacation_df' using the loc method. 
# Hint: The starting and ending city should be the same city.
vacation_start = vacation_df.loc[vacation_df['City'] == 'Nantucket']
vacation_end = vacation_df.loc[vacation_df['City'] == 'Nantucket']
vacation_stop1 = vacation_df.loc[vacation_df['City'] == 'Pierre']
vacation_stop2 = vacation_df.loc[vacation_df['City'] == 'Hamilton'] 
vacation_stop3 = vacation_df.loc[vacation_df['City'] == 'Guymon'] 
vacation_stop3
City_ID	City	Country	Max Temp	Current Description	Lat	Lng	Hotel Name
118	392	Guymon	US	82.4	clear sky	36.6828	-101.4816	Simple Rewards
# 6. Get the latitude-longitude pairs as tuples from each city DataFrame using the to_numpy function and list indexing.
start = vacation_start.iloc[0,5:8].to_numpy()
end = vacation_end.iloc[0,5:8].to_numpy()
stop1 = vacation_stop1.iloc[0,5:8].to_numpy()
stop2 = vacation_stop2.iloc[0,5:8].to_numpy()
stop3 = vacation_stop3.iloc[0,5:8].to_numpy()

start
array([41.2835, -70.0995, 'Jared Coffin House'], dtype=object)
# 7. Create a direction layer map using the start and end latitude-longitude pairs,
# and stop1, stop2, and stop3 as the waypoints. The travel_mode should be "DRIVING", "BICYCLING", or "WALKING".

fig = gmaps.figure(center=(37, -101), zoom_level = 1.4) 
nantucket = vacation_start
pierre = vacation_stop1
hamilton = vacation_stop2
guymon = vacation_stop3 
road_trip = gmaps.directions_layer(nantucket, nantucket, 
                                  waypoints=[pierre, hamilton, guymon],
                                  travel_mode="DRIVING")
---------------------------------------------------------------------------
TraitError                                Traceback (most recent call last)
Input In [52], in <cell line: 9>()
      7 hamilton = vacation_stop2
      8 guymon = vacation_stop3 
----> 9 road_trip = gmaps.directions_layer(nantucket, nantucket, 
     10                                   waypoints=[pierre, hamilton, guymon],
     11                                   travel_mode="DRIVING")

File ~/opt/anaconda3/envs/PythonData/lib/python3.9/site-packages/gmaps/directions.py:282, in directions_layer(start, end, waypoints, avoid_ferries, travel_mode, avoid_highways, avoid_tolls, optimize_waypoints, show_markers, show_route, stroke_color, stroke_weight, stroke_opacity)
    252 """
    253 Create a directions layer.
    254 
   (...)
    265     A :class:`gmaps.Directions` widget.
    266 """
    267 kwargs = {
    268     'start': start,
    269     'end': end,
   (...)
    280     'stroke_opacity': stroke_opacity
    281 }
--> 282 return Directions(**kwargs)

File ~/opt/anaconda3/envs/PythonData/lib/python3.9/site-packages/gmaps/directions.py:207, in Directions.__init__(self, start, end, waypoints, **kwargs)
    205         waypoints = []
    206     kwargs.update(dict(start=start, end=end, waypoints=waypoints))
--> 207 super(Directions, self).__init__(**kwargs)

File ~/opt/anaconda3/envs/PythonData/lib/python3.9/site-packages/ipywidgets/widgets/widget.py:412, in Widget.__init__(self, **kwargs)
    410 """Public constructor"""
    411 self._model_id = kwargs.pop('model_id', None)
--> 412 super(Widget, self).__init__(**kwargs)
    414 Widget._call_widget_constructed(self)
    415 self.open()

File ~/opt/anaconda3/envs/PythonData/lib/python3.9/site-packages/traitlets/traitlets.py:1079, in HasTraits.__init__(self, *args, **kwargs)
   1077 for key, value in kwargs.items():
   1078     if self.has_trait(key):
-> 1079         setattr(self, key, value)
   1080     else:
   1081         # passthrough args that don't set traits to super
   1082         super_kwargs[key] = value

File ~/opt/anaconda3/envs/PythonData/lib/python3.9/site-packages/traitlets/traitlets.py:606, in TraitType.__set__(self, obj, value)
    604     raise TraitError('The "%s" trait is read-only.' % self.name)
    605 else:
--> 606     self.set(obj, value)

File ~/opt/anaconda3/envs/PythonData/lib/python3.9/site-packages/traitlets/traitlets.py:580, in TraitType.set(self, obj, value)
    579 def set(self, obj, value):
--> 580     new_value = self._validate(obj, value)
    581     try:
    582         old_value = obj._trait_values[self.name]

File ~/opt/anaconda3/envs/PythonData/lib/python3.9/site-packages/traitlets/traitlets.py:612, in TraitType._validate(self, obj, value)
    610     return value
    611 if hasattr(self, 'validate'):
--> 612     value = self.validate(obj, value)
    613 if obj._cross_validation_lock is False:
    614     value = self._cross_validate(obj, value)

File ~/opt/anaconda3/envs/PythonData/lib/python3.9/site-packages/gmaps/geotraitlets.py:97, in Point.validate(self, obj, value)
     95 if value is not None:
     96     if len(value) != 2:
---> 97         raise traitlets.TraitError(
     98             '{} is not a valid location. '
     99             'Locations must have length 2.'.format(value)
    100         )
    101     latitude, longitude = value
    102     return super(Point, self).validate(obj, (latitude, longitude))

TraitError:     City_ID       City Country  Max Temp Current Description      Lat  \
74      275  Nantucket      US     78.91                mist  41.2835   

        Lng          Hotel Name  
74 -70.0995  Jared Coffin House   is not a valid location. Locations must have length 2.
# 8. To create a marker layer map between the four cities.
#  Combine the four city DataFrames into one DataFrame using the concat() function.
itinerary_df = pd.concat([vacation_start, vacation_stop1, 
                          vacation_stop2, vacation_stop3]
                         ,ignore_index=True)
itinerary_df
City_ID	City	Country	Max Temp	Current Description	Lat	Lng	Hotel Name
0	275	Nantucket	US	78.91	mist	41.2835	-70.0995	Jared Coffin House
1	647	Pierre	US	87.85	clear sky	44.3683	-100.3510	Ramkota Hotel
2	186	Hamilton	US	79.86	clear sky	39.1834	-84.5333	Six Acres Bed & Breakfast
3	392	Guymon	US	82.40	clear sky	36.6828	-101.4816	Simple Rewards
# 9 Using the template add city name, the country code, the weather description and maximum temperature for the city. 
info_box_template = """
<dl>
<dt>Hotel Name</dt><dd>{Hotel Name}</dd>
<dt>City</dt><dd>{City}</dd>
<dt>Country</dt><dd>{Country}</dd>
<dt>Weather Description</dt><dd>{Current Description}</dd>
<dt>Max Temp</dt><dd>{Max Temp} °F</dd>
</dl>
"""

# 10a Get the data from each row and add it to the formatting template and store the data in a list.
hotel_info = [info_box_template.format(**row) for index, row in itinerary_df.iterrows()]

# 10b. Get the latitude and longitude from each row and store in a new DataFrame.
locations = itinerary_df[["Lat", "Lng"]]
# 11a. Add a marker layer for each city to the map.
marker_layer = gmaps.marker_layer(locations, info_box_content=hotel_info)
# 11b. Display the figure
fig = gmaps.figure(center=(31.0, 31.0), zoom_level=1.4)

fig.add_layer(marker_layer)

fig
Figure(layout=FigureLayout(height='420px'))
 
 
 
