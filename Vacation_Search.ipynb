Deliverable 2. Create a Customer Travel Destinations Map.
# Dependencies and Setup
import pandas as pd
import requests
import gmaps
import numpy as np

# Import API key
from config import g_key

# Configure gmaps API key
gmaps.configure(api_key=g_key)
# 1. Import the WeatherPy_database.csv file. 
city_data_df = pd.read_csv("/Users/claudiabrito/Desktop/Class/World_Weather_Analysis/weather_data/weatherpy_database.csv")
city_data_df.head()
City_ID	City	Country	Date	Lat	Lng	Max Temp	Humidity	Cloudiness	Wind Speed	Current Description
0	0	Port Hueneme	US	2022-07-22 02:17:40	34.1478	-119.1951	89.24	73	0	11.50	clear sky
1	1	Simbahan	PH	2022-07-22 02:14:47	6.3032	120.5836	82.67	74	45	2.95	scattered clouds
2	2	Albany	US	2022-07-22 02:09:37	42.6001	-73.9662	79.45	80	0	3.65	clear sky
3	3	Komsomolskiy	UZ	2022-07-22 02:09:19	40.4272	71.7189	83.12	30	0	9.22	clear sky
4	4	Lewistown	US	2022-07-22 02:17:41	40.5992	-77.5714	75.72	100	100	3.44	overcast clouds
# 2. Prompt the user to enter minimum and maximum temperature criteria 
min_temp = float(input("What is your desired minimum temperature for your trip? "))
max_temp = float(input("What is your desired maximum temperature for your trip? "))
What is your desired minimum temperature for your trip? 75
What is your desired maximum temperature for your trip? 90
# 3. Filter the city_data_df DataFrame using the input statements to create a new DataFrame using the loc method.
preferred_cities_df = city_data_df.loc[(city_data_df["Max Temp"] >= min_temp) &
                                       (city_data_df["Max Temp"] <= max_temp)]
preferred_cities_df
City_ID	City	Country	Date	Lat	Lng	Max Temp	Humidity	Cloudiness	Wind Speed	Current Description
0	0	Port Hueneme	US	2022-07-22 02:17:40	34.1478	-119.1951	89.24	73	0	11.50	clear sky
1	1	Simbahan	PH	2022-07-22 02:14:47	6.3032	120.5836	82.67	74	45	2.95	scattered clouds
2	2	Albany	US	2022-07-22 02:09:37	42.6001	-73.9662	79.45	80	0	3.65	clear sky
3	3	Komsomolskiy	UZ	2022-07-22 02:09:19	40.4272	71.7189	83.12	30	0	9.22	clear sky
4	4	Lewistown	US	2022-07-22 02:17:41	40.5992	-77.5714	75.72	100	100	3.44	overcast clouds
...	...	...	...	...	...	...	...	...	...	...	...
674	674	Nador	MA	2022-07-22 02:20:08	35.1740	-2.9287	77.25	88	40	4.61	scattered clouds
680	680	Canutama	BR	2022-07-22 02:12:42	-6.5339	-64.3831	80.58	57	100	2.26	overcast clouds
682	682	Kuching	MY	2022-07-22 02:20:10	1.5500	110.3333	77.22	94	40	3.44	moderate rain
685	685	Chifeng	CN	2022-07-22 02:13:27	42.2683	118.9636	80.10	52	85	3.22	overcast clouds
687	687	Dangriga	BZ	2022-07-22 02:20:11	16.9692	-88.2321	80.73	83	16	11.07	few clouds
250 rows × 11 columns

# 4a. Determine if there are any empty rows.
preferred_cities_df.isnull().sum()
City_ID                0
City                   0
Country                0
Date                   0
Lat                    0
Lng                    0
Max Temp               0
Humidity               0
Cloudiness             0
Wind Speed             0
Current Description    0
dtype: int64
# 4b. Drop any empty rows and create a new DataFrame that doesn’t have empty rows.
clean_df = preferred_cities_df.dropna()
clean_df
City_ID	City	Country	Date	Lat	Lng	Max Temp	Humidity	Cloudiness	Wind Speed	Current Description
0	0	Port Hueneme	US	2022-07-22 02:17:40	34.1478	-119.1951	89.24	73	0	11.50	clear sky
1	1	Simbahan	PH	2022-07-22 02:14:47	6.3032	120.5836	82.67	74	45	2.95	scattered clouds
2	2	Albany	US	2022-07-22 02:09:37	42.6001	-73.9662	79.45	80	0	3.65	clear sky
3	3	Komsomolskiy	UZ	2022-07-22 02:09:19	40.4272	71.7189	83.12	30	0	9.22	clear sky
4	4	Lewistown	US	2022-07-22 02:17:41	40.5992	-77.5714	75.72	100	100	3.44	overcast clouds
...	...	...	...	...	...	...	...	...	...	...	...
674	674	Nador	MA	2022-07-22 02:20:08	35.1740	-2.9287	77.25	88	40	4.61	scattered clouds
680	680	Canutama	BR	2022-07-22 02:12:42	-6.5339	-64.3831	80.58	57	100	2.26	overcast clouds
682	682	Kuching	MY	2022-07-22 02:20:10	1.5500	110.3333	77.22	94	40	3.44	moderate rain
685	685	Chifeng	CN	2022-07-22 02:13:27	42.2683	118.9636	80.10	52	85	3.22	overcast clouds
687	687	Dangriga	BZ	2022-07-22 02:20:11	16.9692	-88.2321	80.73	83	16	11.07	few clouds
250 rows × 11 columns

# 5a. Create DataFrame called hotel_df to store hotel names along with city, country, max temp, and coordinates.
hotel_df = clean_df[["City", "Country", "Max Temp", "Current Description", "Lat", "Lng"]].copy()

# 5b. Create a new column "Hotel Name"
hotel_df["Hotel Name"] = ""
hotel_df.head(10)
City	Country	Max Temp	Current Description	Lat	Lng	Hotel Name
0	Port Hueneme	US	89.24	clear sky	34.1478	-119.1951	
1	Simbahan	PH	82.67	scattered clouds	6.3032	120.5836	
2	Albany	US	79.45	clear sky	42.6001	-73.9662	
3	Komsomolskiy	UZ	83.12	clear sky	40.4272	71.7189	
4	Lewistown	US	75.72	overcast clouds	40.5992	-77.5714	
14	Avera	US	80.11	overcast clouds	33.1940	-82.5271	
20	Butaritari	KI	81.14	light rain	3.0707	172.7902	
26	Dasoguz	TM	85.95	clear sky	41.8363	59.9666	
33	Wattegama	LK	76.75	overcast clouds	6.7989	81.4808	
40	Panaba	MX	78.17	overcast clouds	21.2833	-88.2667	
# 6a. Set parameters to search for hotels with 5000 meters.
params = {
    "radius": 5000,
    "type": "lodging",
    "key": g_key
}

# 6b. Iterate through the hotel DataFrame.
for index, row in hotel_df.iterrows():
    
    # 6c. Get latitude and longitude from DataFrame
    lat = row["Lat"]
    lng = row["Lng"]
    params["location"] = f"{lat},{lng}"
    
    
    # 6d. Set up the base URL for the Google Directions API to get JSON data.
    base_url = "https://maps.googleapis.com/maps/api/place/nearbysearch/json"

    # 6e. Make request and retrieve the JSON data from the search. 
    hotels = requests.get(base_url, params=params).json()
    
    # 6f. Get the first hotel from the results and store the name, if a hotel isn't found skip the city.
    try:
        hotel_df.loc[index, "Hotel Name"] = hotels["results"][0]["name"]
        
    except (IndexError):
        print("Cannot find hotel...skipping.")  
        
Cannot find hotel...skipping.
Cannot find hotel...skipping.
Cannot find hotel...skipping.
Cannot find hotel...skipping.
Cannot find hotel...skipping.
Cannot find hotel...skipping.
Cannot find hotel...skipping.
Cannot find hotel...skipping.
Cannot find hotel...skipping.
Cannot find hotel...skipping.
Cannot find hotel...skipping.
Cannot find hotel...skipping.
Cannot find hotel...skipping.
Cannot find hotel...skipping.
Cannot find hotel...skipping.
Cannot find hotel...skipping.
Cannot find hotel...skipping.
Cannot find hotel...skipping.
Cannot find hotel...skipping.
Cannot find hotel...skipping.
Cannot find hotel...skipping.
Cannot find hotel...skipping.
# 7. Drop the rows where there is no Hotel Name.
c = hotel_df.replace(r'^\s*$', np.nan, regex=True)
clean_hotel_df = c.dropna()
clean_hotel_df
City	Country	Max Temp	Current Description	Lat	Lng	Hotel Name
0	Port Hueneme	US	89.24	clear sky	34.1478	-119.1951	Hampton Inn Channel Islands Harbor
3	Komsomolskiy	UZ	83.12	clear sky	40.4272	71.7189	Ikathouse
4	Lewistown	US	75.72	overcast clouds	40.5992	-77.5714	Quality Inn & Suites
20	Butaritari	KI	81.14	light rain	3.0707	172.7902	Isles Sunset Lodge
26	Dasoguz	TM	85.95	clear sky	41.8363	59.9666	Hotel Erik
...	...	...	...	...	...	...	...
674	Nador	MA	77.25	scattered clouds	35.1740	-2.9287	Hôtel La Giralda
680	Canutama	BR	80.58	overcast clouds	-6.5339	-64.3831	Hotel Jhennifer
682	Kuching	MY	77.22	moderate rain	1.5500	110.3333	Hilton Kuching
685	Chifeng	CN	80.10	overcast clouds	42.2683	118.9636	Junyu Tiancheng Hotel
687	Dangriga	BZ	80.73	few clouds	16.9692	-88.2321	Chaleanor Hotel
228 rows × 7 columns

# 8a. Create the output File (CSV)
output_data_file = "weatherpy_vacation.csv"

# 8b. Export the City_Data into a csv
clean_hotel_df.to_csv(output_data_file, index_label="City_ID")
# 9. Using the template add city name, the country code, the weather description and maximum temperature for the city.
info_box_template = """
<dl>
<dt>Hotel Name</dt><dd>{Hotel Name}</dd>
<dt>City</dt><dd>{City}</dd>
<dt>Country</dt><dd>{Country}</dd>
<dt>Weather Description</dt><dd>{Current Description}</dd>
<dt>Max Temp</dt><dd>{Max Temp} °F</dd>
</dl>
"""

# 10a. Get the data from each row and add it to the formatting template and store the data in a list.
hotel_info = [info_box_template.format(**row) for index, row in clean_hotel_df.iterrows()]

# 10b. Get the latitude and longitude from each row and store in a new DataFrame.
locations = clean_hotel_df[["Lat", "Lng"]]
# 11a. Add a marker layer for each city to the map. 
marker_layer = gmaps.marker_layer(locations, info_box_content=hotel_info)

# 11b. Display the figure
fig = gmaps.figure(center=(31.0, 31.0), zoom_level=1.4)
fig.add_layer(marker_layer)

fig
Figure(layout=FigureLayout(height='420px'))
 
 
