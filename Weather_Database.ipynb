#Create a new set of 2000 random latitutes and longitudes
#Import Dependencies 
import pandas as pd 
import matplotlib.pyplot as plt
import numpy as np
import random
from citipy import citipy
from datetime import datetime 
import requests
import time
from scipy.stats import linregress
import gmaps
# Import the requests library.
import requests

# Import the API key.
from config import weather_api_key
#Import g_key
from config import g_key
# Create list for weather data and retrieve process
city_data = []

# Print the beginning of the logging
print("Beginning Data Retrieval     ")
print("-----------------------------")

# Create counters
record_count = 1
set_count = 1

# Create basic url for API
url = "http://api.openweathermap.org/data/2.5/weather?units=Imperial&APPID=" + weather_api_key
Beginning Data Retrieval     
-----------------------------
# Create a new set of 2000 random latitude and longitude (coordinates) 
latitudes = np.random.uniform(-90, 90, size = 2000)
longitudes = np.random.uniform(-180, 180, size = 2000)
coordinates = zip(latitudes, longitudes)
coordinates

# Add coordinates to a list 
coordinates_lst = list(coordinates)
#Get the nearest city using the citypy module 
# Create list for cities 
cities = []

# Use citipy to find nearest cities using coordinate list
for coordinate in coordinates_lst:
    city = citipy.nearest_city(coordinate[0],coordinate[1])
    city_name = city.city_name
    country_name = city.country_code
    
    # Find unique cities to add to cities list
    if city_name not in cities:
        cities.append(city_name)
    
    # See cities and contries
    # print(f'{city_name}, {country_name}')

# Count amount of unique cities
len(cities)
760
#Next loop through city Lists. This will retrieve all of the information from the API call (Latitude and longitude, 
#Maximum temp, Percent humidity, Percent cloudiness, Wind Speed, Weather description such as clouds, fog, light rain and clear sky)
for i, city in enumerate(cities):
    
    # Group cities in sets of 50 
    if (i % 50 == 0 and i >= 50):
        set_count += 1 
        record_count = 1 
    
    # Create URL for each city
    city_url = url + "&q=" + city.replace(" ","+")
    
    # Log URL, set, and record numbers for each city
    print(f"Processing Record {record_count} of Set {set_count} | {city}")
    record_count += 1

# Make an API request for each city 
    try:
       
        # Parse the JSON data
        city_weather = requests.get(city_url).json()

        # Compile needed data
        city_city = city.title()
        city_country = city_weather['sys']['country']
        city_date = datetime.utcfromtimestamp(city_weather['dt']).strftime('%Y-%m-%d %H:%M:%S')
        city_lat = city_weather['coord']['lat']
        city_lng = city_weather['coord']['lon']
        city_max_temp = city_weather['main']['temp_max']
        city_hum = city_weather['main']['humidity']
        city_cloud = city_weather['clouds']['all']
        city_wind = city_weather['wind']['speed']
        city_desc = city_weather['weather'][0]['description']

        # Fill City Data list 
        city_data.append({"City": city_city,
                         "Country": city_country,
                         "Date": city_date,
                         "Lat": city_lat,
                         "Lng": city_lng,
                         "Max Temp": city_max_temp,
                         "Humidity": city_hum,
                         "Cloudiness": city_cloud,
                         "Wind Speed": city_wind,
                         "Current Description": city_desc,
                         })
        
    #If an error occurs
    except: 
        print("City not found. Skipping")
        pass

    # Complete Data Retrieval    
print("-----------------------------")
print("Data Retrieval Complete      ")
print("-----------------------------")
Processing Record 1 of Set 1 | port hueneme
Processing Record 2 of Set 1 | simbahan
Processing Record 3 of Set 1 | albany
Processing Record 4 of Set 1 | komsomolskiy
Processing Record 5 of Set 1 | lewistown
Processing Record 6 of Set 1 | cape town
Processing Record 7 of Set 1 | puerto ayora
Processing Record 8 of Set 1 | vaini
Processing Record 9 of Set 1 | bredasdorp
Processing Record 10 of Set 1 | chimore
Processing Record 11 of Set 1 | upernavik
Processing Record 12 of Set 1 | lerwick
Processing Record 13 of Set 1 | berlevag
Processing Record 14 of Set 1 | bluff
Processing Record 15 of Set 1 | avera
Processing Record 16 of Set 1 | christchurch
Processing Record 17 of Set 1 | sobolevo
Processing Record 18 of Set 1 | tasiilaq
Processing Record 19 of Set 1 | carnarvon
Processing Record 20 of Set 1 | krasnogorsk
Processing Record 21 of Set 1 | mocambique
City not found. Skipping
Processing Record 22 of Set 1 | butaritari
Processing Record 23 of Set 1 | taolanaro
City not found. Skipping
Processing Record 24 of Set 1 | saskylakh
Processing Record 25 of Set 1 | ancud
Processing Record 26 of Set 1 | split
Processing Record 27 of Set 1 | shatrovo
Processing Record 28 of Set 1 | castro
Processing Record 29 of Set 1 | dasoguz
Processing Record 30 of Set 1 | pisco
Processing Record 31 of Set 1 | kaliua
Processing Record 32 of Set 1 | punta arenas
Processing Record 33 of Set 1 | chuy
Processing Record 34 of Set 1 | pahalgam
Processing Record 35 of Set 1 | mataura
Processing Record 36 of Set 1 | wattegama
Processing Record 37 of Set 1 | narsaq
Processing Record 38 of Set 1 | luderitz
Processing Record 39 of Set 1 | inuvik
Processing Record 40 of Set 1 | zlatoustovsk
City not found. Skipping
Processing Record 41 of Set 1 | kichmengskiy gorodok
Processing Record 42 of Set 1 | lebu
Processing Record 43 of Set 1 | lagoa
Processing Record 44 of Set 1 | panaba
Processing Record 45 of Set 1 | santa marta
Processing Record 46 of Set 1 | sibu
Processing Record 47 of Set 1 | buin
Processing Record 48 of Set 1 | pangnirtung
Processing Record 49 of Set 1 | dikson
Processing Record 50 of Set 1 | busselton
Processing Record 1 of Set 2 | garavuti
Processing Record 2 of Set 2 | hobart
Processing Record 3 of Set 2 | namasuba
Processing Record 4 of Set 2 | fairbanks
Processing Record 5 of Set 2 | rikitea
Processing Record 6 of Set 2 | nemuro
Processing Record 7 of Set 2 | abnub
Processing Record 8 of Set 2 | sao paulo do potengi
Processing Record 9 of Set 2 | thompson
Processing Record 10 of Set 2 | loa janan
Processing Record 11 of Set 2 | la palma
Processing Record 12 of Set 2 | kapaa
Processing Record 13 of Set 2 | bethel
Processing Record 14 of Set 2 | qaanaaq
Processing Record 15 of Set 2 | tokur
Processing Record 16 of Set 2 | sakakah
Processing Record 17 of Set 2 | petauke
Processing Record 18 of Set 2 | samusu
City not found. Skipping
Processing Record 19 of Set 2 | flinders
Processing Record 20 of Set 2 | fellbach
Processing Record 21 of Set 2 | sangar
Processing Record 22 of Set 2 | tura
Processing Record 23 of Set 2 | saint-philippe
Processing Record 24 of Set 2 | saint george
Processing Record 25 of Set 2 | port moresby
Processing Record 26 of Set 2 | chokurdakh
Processing Record 27 of Set 2 | anqing
Processing Record 28 of Set 2 | santa cruz de la palma
Processing Record 29 of Set 2 | illoqqortoormiut
City not found. Skipping
Processing Record 30 of Set 2 | new norfolk
Processing Record 31 of Set 2 | nizhneyansk
City not found. Skipping
Processing Record 32 of Set 2 | lensk
Processing Record 33 of Set 2 | iqaluit
Processing Record 34 of Set 2 | gimli
Processing Record 35 of Set 2 | port elizabeth
Processing Record 36 of Set 2 | attawapiskat
City not found. Skipping
Processing Record 37 of Set 2 | dujuma
City not found. Skipping
Processing Record 38 of Set 2 | benque viejo
City not found. Skipping
Processing Record 39 of Set 2 | viligili
City not found. Skipping
Processing Record 40 of Set 2 | umzimvubu
City not found. Skipping
Processing Record 41 of Set 2 | xining
Processing Record 42 of Set 2 | ushuaia
Processing Record 43 of Set 2 | belushya guba
City not found. Skipping
Processing Record 44 of Set 2 | veraval
Processing Record 45 of Set 2 | tiksi
Processing Record 46 of Set 2 | bacolod
Processing Record 47 of Set 2 | skibbereen
Processing Record 48 of Set 2 | grand river south east
City not found. Skipping
Processing Record 49 of Set 2 | dingle
Processing Record 50 of Set 2 | villa carlos paz
Processing Record 1 of Set 3 | ilulissat
Processing Record 2 of Set 3 | pitimbu
Processing Record 3 of Set 3 | kavaratti
Processing Record 4 of Set 3 | merauke
Processing Record 5 of Set 3 | klaksvik
Processing Record 6 of Set 3 | vostok
Processing Record 7 of Set 3 | saldanha
Processing Record 8 of Set 3 | exeter
Processing Record 9 of Set 3 | tuatapere
Processing Record 10 of Set 3 | pergamino
Processing Record 11 of Set 3 | le port
Processing Record 12 of Set 3 | mar del plata
Processing Record 13 of Set 3 | arraial do cabo
Processing Record 14 of Set 3 | meulaboh
Processing Record 15 of Set 3 | georgetown
Processing Record 16 of Set 3 | nanchang
Processing Record 17 of Set 3 | port alfred
Processing Record 18 of Set 3 | barrow
Processing Record 19 of Set 3 | peruibe
Processing Record 20 of Set 3 | simao
Processing Record 21 of Set 3 | senneterre
Processing Record 22 of Set 3 | bonavista
Processing Record 23 of Set 3 | ostrovnoy
Processing Record 24 of Set 3 | port macquarie
Processing Record 25 of Set 3 | takoradi
Processing Record 26 of Set 3 | strezhevoy
Processing Record 27 of Set 3 | poum
Processing Record 28 of Set 3 | jose bonifacio
Processing Record 29 of Set 3 | lima
Processing Record 30 of Set 3 | louisbourg
City not found. Skipping
Processing Record 31 of Set 3 | provideniya
Processing Record 32 of Set 3 | vaitupu
City not found. Skipping
Processing Record 33 of Set 3 | nikolskoye
Processing Record 34 of Set 3 | beringovskiy
Processing Record 35 of Set 3 | katsuura
Processing Record 36 of Set 3 | chengde
Processing Record 37 of Set 3 | burnie
Processing Record 38 of Set 3 | bungu
Processing Record 39 of Set 3 | maceio
Processing Record 40 of Set 3 | zeya
Processing Record 41 of Set 3 | praia
Processing Record 42 of Set 3 | san quintin
Processing Record 43 of Set 3 | muros
Processing Record 44 of Set 3 | antalaha
Processing Record 45 of Set 3 | tumannyy
City not found. Skipping
Processing Record 46 of Set 3 | hrubieszow
Processing Record 47 of Set 3 | longyearbyen
Processing Record 48 of Set 3 | yaan
Processing Record 49 of Set 3 | vao
Processing Record 50 of Set 3 | airai
Processing Record 1 of Set 4 | panguna
Processing Record 2 of Set 4 | saryshagan
City not found. Skipping
Processing Record 3 of Set 4 | ewa beach
Processing Record 4 of Set 4 | laguna
Processing Record 5 of Set 4 | avarua
Processing Record 6 of Set 4 | aswan
Processing Record 7 of Set 4 | vilyuysk
Processing Record 8 of Set 4 | malwan
City not found. Skipping
Processing Record 9 of Set 4 | challapata
Processing Record 10 of Set 4 | tilichiki
Processing Record 11 of Set 4 | nyurba
Processing Record 12 of Set 4 | chagda
City not found. Skipping
Processing Record 13 of Set 4 | cockburn town
Processing Record 14 of Set 4 | diffa
Processing Record 15 of Set 4 | ponta do sol
Processing Record 16 of Set 4 | marivan
Processing Record 17 of Set 4 | ayagoz
Processing Record 18 of Set 4 | nanortalik
Processing Record 19 of Set 4 | valdivia
Processing Record 20 of Set 4 | khurba
Processing Record 21 of Set 4 | uchiza
Processing Record 22 of Set 4 | amaigbo
Processing Record 23 of Set 4 | moussoro
Processing Record 24 of Set 4 | cayenne
Processing Record 25 of Set 4 | litovko
Processing Record 26 of Set 4 | hargeysa
Processing Record 27 of Set 4 | sumbawa
City not found. Skipping
Processing Record 28 of Set 4 | linkou
Processing Record 29 of Set 4 | lebyazhye
Processing Record 30 of Set 4 | tabiauea
City not found. Skipping
Processing Record 31 of Set 4 | ngukurr
City not found. Skipping
Processing Record 32 of Set 4 | oriximina
Processing Record 33 of Set 4 | cartagena
Processing Record 34 of Set 4 | baiao
Processing Record 35 of Set 4 | chake chake
Processing Record 36 of Set 4 | stykkisholmur
Processing Record 37 of Set 4 | te anau
Processing Record 38 of Set 4 | buraydah
Processing Record 39 of Set 4 | kununurra
Processing Record 40 of Set 4 | hilo
Processing Record 41 of Set 4 | yulara
Processing Record 42 of Set 4 | salaga
Processing Record 43 of Set 4 | jamestown
Processing Record 44 of Set 4 | utiroa
City not found. Skipping
Processing Record 45 of Set 4 | fort nelson
Processing Record 46 of Set 4 | hermanus
Processing Record 47 of Set 4 | liminangcong
City not found. Skipping
Processing Record 48 of Set 4 | mahebourg
Processing Record 49 of Set 4 | chauk
Processing Record 50 of Set 4 | isangel
Processing Record 1 of Set 5 | srednekolymsk
Processing Record 2 of Set 5 | torbay
Processing Record 3 of Set 5 | yellowknife
Processing Record 4 of Set 5 | kruisfontein
Processing Record 5 of Set 5 | mackenzie
Processing Record 6 of Set 5 | tidore
City not found. Skipping
Processing Record 7 of Set 5 | salisbury
Processing Record 8 of Set 5 | opobo
City not found. Skipping
Processing Record 9 of Set 5 | roald
Processing Record 10 of Set 5 | taoudenni
Processing Record 11 of Set 5 | maldonado
Processing Record 12 of Set 5 | atuona
Processing Record 13 of Set 5 | hamilton
Processing Record 14 of Set 5 | sentyabrskiy
City not found. Skipping
Processing Record 15 of Set 5 | portland
Processing Record 16 of Set 5 | bambanglipuro
Processing Record 17 of Set 5 | kaitangata
Processing Record 18 of Set 5 | douglas
Processing Record 19 of Set 5 | ahipara
Processing Record 20 of Set 5 | tuktoyaktuk
Processing Record 21 of Set 5 | wetaskiwin
Processing Record 22 of Set 5 | barabinsk
Processing Record 23 of Set 5 | ribeira grande
Processing Record 24 of Set 5 | kodiak
Processing Record 25 of Set 5 | antsohihy
Processing Record 26 of Set 5 | zholymbet
Processing Record 27 of Set 5 | hithadhoo
Processing Record 28 of Set 5 | kiama
Processing Record 29 of Set 5 | east london
Processing Record 30 of Set 5 | lekoni
Processing Record 31 of Set 5 | angoram
Processing Record 32 of Set 5 | black river
Processing Record 33 of Set 5 | lompoc
Processing Record 34 of Set 5 | souillac
Processing Record 35 of Set 5 | ranong
Processing Record 36 of Set 5 | alice springs
Processing Record 37 of Set 5 | urumqi
Processing Record 38 of Set 5 | araouane
Processing Record 39 of Set 5 | mahibadhoo
Processing Record 40 of Set 5 | padang
Processing Record 41 of Set 5 | kirakira
Processing Record 42 of Set 5 | atar
Processing Record 43 of Set 5 | solnechnyy
Processing Record 44 of Set 5 | senaki
Processing Record 45 of Set 5 | pacific grove
Processing Record 46 of Set 5 | luganville
Processing Record 47 of Set 5 | sokoni
Processing Record 48 of Set 5 | galgani
City not found. Skipping
Processing Record 49 of Set 5 | nome
Processing Record 50 of Set 5 | richmond
Processing Record 1 of Set 6 | laurel
Processing Record 2 of Set 6 | mys shmidta
City not found. Skipping
Processing Record 3 of Set 6 | tulum
Processing Record 4 of Set 6 | kavieng
Processing Record 5 of Set 6 | jashpurnagar
Processing Record 6 of Set 6 | khatanga
Processing Record 7 of Set 6 | moroni
Processing Record 8 of Set 6 | saint-augustin
Processing Record 9 of Set 6 | rafai
Processing Record 10 of Set 6 | sao filipe
Processing Record 11 of Set 6 | pechenga
Processing Record 12 of Set 6 | coihaique
Processing Record 13 of Set 6 | namatanai
Processing Record 14 of Set 6 | hambantota
Processing Record 15 of Set 6 | crepaja
Processing Record 16 of Set 6 | umm kaddadah
Processing Record 17 of Set 6 | san borja
Processing Record 18 of Set 6 | guerrero negro
Processing Record 19 of Set 6 | tasbuget
City not found. Skipping
Processing Record 20 of Set 6 | victoria
Processing Record 21 of Set 6 | crab hill
City not found. Skipping
Processing Record 22 of Set 6 | santa fe
Processing Record 23 of Set 6 | khasan
Processing Record 24 of Set 6 | treinta y tres
Processing Record 25 of Set 6 | kulhudhuffushi
Processing Record 26 of Set 6 | evensk
Processing Record 27 of Set 6 | puerto cabezas
Processing Record 28 of Set 6 | swellendam
Processing Record 29 of Set 6 | asau
Processing Record 30 of Set 6 | caravelas
Processing Record 31 of Set 6 | cheuskiny
City not found. Skipping
Processing Record 32 of Set 6 | faanui
Processing Record 33 of Set 6 | kemijarvi
Processing Record 34 of Set 6 | sorland
Processing Record 35 of Set 6 | baruun-urt
Processing Record 36 of Set 6 | port blair
Processing Record 37 of Set 6 | cherskiy
Processing Record 38 of Set 6 | los llanos de aridane
Processing Record 39 of Set 6 | okhotsk
Processing Record 40 of Set 6 | yanchukan
City not found. Skipping
Processing Record 41 of Set 6 | belo horizonte
Processing Record 42 of Set 6 | bambous virieux
Processing Record 43 of Set 6 | codrington
Processing Record 44 of Set 6 | hofn
Processing Record 45 of Set 6 | teahupoo
Processing Record 46 of Set 6 | vardo
Processing Record 47 of Set 6 | barentsburg
City not found. Skipping
Processing Record 48 of Set 6 | tammisaari
Processing Record 49 of Set 6 | buala
Processing Record 50 of Set 6 | mao
Processing Record 1 of Set 7 | humberto de campos
Processing Record 2 of Set 7 | belaya gora
Processing Record 3 of Set 7 | itarema
Processing Record 4 of Set 7 | ponta delgada
Processing Record 5 of Set 7 | margate
Processing Record 6 of Set 7 | the valley
Processing Record 7 of Set 7 | winnemucca
Processing Record 8 of Set 7 | worland
Processing Record 9 of Set 7 | severodvinsk
Processing Record 10 of Set 7 | nantucket
Processing Record 11 of Set 7 | jumla
Processing Record 12 of Set 7 | shahreza
Processing Record 13 of Set 7 | bengkulu
Processing Record 14 of Set 7 | palmer
Processing Record 15 of Set 7 | calama
Processing Record 16 of Set 7 | rawson
Processing Record 17 of Set 7 | malindi
Processing Record 18 of Set 7 | roebourne
Processing Record 19 of Set 7 | faya
Processing Record 20 of Set 7 | necochea
Processing Record 21 of Set 7 | mundo nuevo
Processing Record 22 of Set 7 | great falls
Processing Record 23 of Set 7 | santa maria
Processing Record 24 of Set 7 | nouadhibou
Processing Record 25 of Set 7 | quatre cocos
Processing Record 26 of Set 7 | pathein
Processing Record 27 of Set 7 | hlotse
Processing Record 28 of Set 7 | skuodas
Processing Record 29 of Set 7 | zyryanka
Processing Record 30 of Set 7 | kyrylivka
Processing Record 31 of Set 7 | ruatoria
City not found. Skipping
Processing Record 32 of Set 7 | sargur
Processing Record 33 of Set 7 | sari
Processing Record 34 of Set 7 | ambon
Processing Record 35 of Set 7 | vila franca do campo
Processing Record 36 of Set 7 | labuhan
Processing Record 37 of Set 7 | rehoboth
Processing Record 38 of Set 7 | guarapari
Processing Record 39 of Set 7 | wahran
City not found. Skipping
Processing Record 40 of Set 7 | victoria point
Processing Record 41 of Set 7 | amderma
City not found. Skipping
Processing Record 42 of Set 7 | tsihombe
City not found. Skipping
Processing Record 43 of Set 7 | green river
Processing Record 44 of Set 7 | krasnoselkup
Processing Record 45 of Set 7 | bogorodskoye
Processing Record 46 of Set 7 | guiyang
Processing Record 47 of Set 7 | san francisco
Processing Record 48 of Set 7 | zhucheng
Processing Record 49 of Set 7 | boralday
Processing Record 50 of Set 7 | comodoro rivadavia
Processing Record 1 of Set 8 | salalah
Processing Record 2 of Set 8 | lata
Processing Record 3 of Set 8 | davila
Processing Record 4 of Set 8 | makakilo city
Processing Record 5 of Set 8 | chipinge
Processing Record 6 of Set 8 | srivardhan
Processing Record 7 of Set 8 | pithora
Processing Record 8 of Set 8 | odlabari
Processing Record 9 of Set 8 | sao joao da barra
Processing Record 10 of Set 8 | acajutla
Processing Record 11 of Set 8 | pevek
Processing Record 12 of Set 8 | chapais
Processing Record 13 of Set 8 | ekhabi
Processing Record 14 of Set 8 | port-gentil
Processing Record 15 of Set 8 | elizabeth city
Processing Record 16 of Set 8 | tambo grande
Processing Record 17 of Set 8 | madang
Processing Record 18 of Set 8 | puerto escondido
Processing Record 19 of Set 8 | hua hin
Processing Record 20 of Set 8 | tari
Processing Record 21 of Set 8 | santa branca
Processing Record 22 of Set 8 | paamiut
Processing Record 23 of Set 8 | garmsar
Processing Record 24 of Set 8 | aksarka
Processing Record 25 of Set 8 | ibra
Processing Record 26 of Set 8 | bang saphan
Processing Record 27 of Set 8 | guozhen
Processing Record 28 of Set 8 | severo-kurilsk
Processing Record 29 of Set 8 | nizhniy kuranakh
Processing Record 30 of Set 8 | launceston
Processing Record 31 of Set 8 | ayan
Processing Record 32 of Set 8 | yertarskiy
Processing Record 33 of Set 8 | souris
Processing Record 34 of Set 8 | nuuk
Processing Record 35 of Set 8 | puerto colombia
Processing Record 36 of Set 8 | bela
Processing Record 37 of Set 8 | vernon
Processing Record 38 of Set 8 | norman wells
Processing Record 39 of Set 8 | ambulu
Processing Record 40 of Set 8 | fortuna
Processing Record 41 of Set 8 | la union
Processing Record 42 of Set 8 | cabo san lucas
Processing Record 43 of Set 8 | preobrazheniye
Processing Record 44 of Set 8 | cidreira
Processing Record 45 of Set 8 | asilah
Processing Record 46 of Set 8 | palabuhanratu
City not found. Skipping
Processing Record 47 of Set 8 | hasaki
Processing Record 48 of Set 8 | blankenberge
Processing Record 49 of Set 8 | bubaque
Processing Record 50 of Set 8 | palencia
Processing Record 1 of Set 9 | lavrentiya
Processing Record 2 of Set 9 | dalvik
Processing Record 3 of Set 9 | kaeo
Processing Record 4 of Set 9 | camana
Processing Record 5 of Set 9 | karaul
City not found. Skipping
Processing Record 6 of Set 9 | zhezkazgan
Processing Record 7 of Set 9 | aklavik
Processing Record 8 of Set 9 | sungaipenuh
Processing Record 9 of Set 9 | telford
Processing Record 10 of Set 9 | jiutai
Processing Record 11 of Set 9 | esperantina
Processing Record 12 of Set 9 | yomitan
City not found. Skipping
Processing Record 13 of Set 9 | lev tolstoy
Processing Record 14 of Set 9 | shu
Processing Record 15 of Set 9 | fare
Processing Record 16 of Set 9 | awbari
Processing Record 17 of Set 9 | hay river
Processing Record 18 of Set 9 | teofilo otoni
Processing Record 19 of Set 9 | paranga
Processing Record 20 of Set 9 | cavalcante
Processing Record 21 of Set 9 | taltal
Processing Record 22 of Set 9 | labutta
City not found. Skipping
Processing Record 23 of Set 9 | mandalgovi
Processing Record 24 of Set 9 | boyolangu
Processing Record 25 of Set 9 | sabha
Processing Record 26 of Set 9 | dukat
Processing Record 27 of Set 9 | jilin
Processing Record 28 of Set 9 | marcona
City not found. Skipping
Processing Record 29 of Set 9 | benguela
Processing Record 30 of Set 9 | high level
Processing Record 31 of Set 9 | olafsvik
Processing Record 32 of Set 9 | vila velha
Processing Record 33 of Set 9 | semirom
Processing Record 34 of Set 9 | fukue
Processing Record 35 of Set 9 | lethem
Processing Record 36 of Set 9 | guymon
Processing Record 37 of Set 9 | ayer itam
City not found. Skipping
Processing Record 38 of Set 9 | chiredzi
Processing Record 39 of Set 9 | chalisgaon
Processing Record 40 of Set 9 | macaboboni
City not found. Skipping
Processing Record 41 of Set 9 | iroquois falls
Processing Record 42 of Set 9 | chara
Processing Record 43 of Set 9 | boueni
Processing Record 44 of Set 9 | englewood
Processing Record 45 of Set 9 | biltine
Processing Record 46 of Set 9 | axim
Processing Record 47 of Set 9 | vuktyl
Processing Record 48 of Set 9 | hunza
City not found. Skipping
Processing Record 49 of Set 9 | quetzaltepec
City not found. Skipping
Processing Record 50 of Set 9 | llangefni
Processing Record 1 of Set 10 | ankara
Processing Record 2 of Set 10 | nago
Processing Record 3 of Set 10 | waw
Processing Record 4 of Set 10 | mahdalynivka
Processing Record 5 of Set 10 | probolinggo
Processing Record 6 of Set 10 | scottsburgh
City not found. Skipping
Processing Record 7 of Set 10 | barcelona
Processing Record 8 of Set 10 | mugla
Processing Record 9 of Set 10 | yar-sale
Processing Record 10 of Set 10 | brae
Processing Record 11 of Set 10 | lahij
Processing Record 12 of Set 10 | motygino
Processing Record 13 of Set 10 | kyra
Processing Record 14 of Set 10 | durant
Processing Record 15 of Set 10 | pemangkat
Processing Record 16 of Set 10 | mbanza-ngungu
Processing Record 17 of Set 10 | bonthe
Processing Record 18 of Set 10 | mrirt
City not found. Skipping
Processing Record 19 of Set 10 | mount gambier
Processing Record 20 of Set 10 | bilma
Processing Record 21 of Set 10 | esperance
Processing Record 22 of Set 10 | gladstone
Processing Record 23 of Set 10 | port hedland
Processing Record 24 of Set 10 | talcahuano
Processing Record 25 of Set 10 | shimoda
Processing Record 26 of Set 10 | rocha
Processing Record 27 of Set 10 | eyl
Processing Record 28 of Set 10 | bagnara calabra
Processing Record 29 of Set 10 | shchelkun
Processing Record 30 of Set 10 | ville-marie
Processing Record 31 of Set 10 | pakwach
City not found. Skipping
Processing Record 32 of Set 10 | ambilobe
Processing Record 33 of Set 10 | hovd
Processing Record 34 of Set 10 | pizarro
Processing Record 35 of Set 10 | osa
Processing Record 36 of Set 10 | el campo
Processing Record 37 of Set 10 | bibiani
Processing Record 38 of Set 10 | vizinga
Processing Record 39 of Set 10 | pires do rio
Processing Record 40 of Set 10 | eenhana
Processing Record 41 of Set 10 | senanga
Processing Record 42 of Set 10 | monroe
Processing Record 43 of Set 10 | kendari
Processing Record 44 of Set 10 | kamina
Processing Record 45 of Set 10 | chapleau
Processing Record 46 of Set 10 | tadine
Processing Record 47 of Set 10 | formoso do araguaia
City not found. Skipping
Processing Record 48 of Set 10 | grindavik
Processing Record 49 of Set 10 | san vicente
Processing Record 50 of Set 10 | san cristobal
Processing Record 1 of Set 11 | hoquiam
Processing Record 2 of Set 11 | durango
Processing Record 3 of Set 11 | isla mujeres
Processing Record 4 of Set 11 | palestine
Processing Record 5 of Set 11 | tapaua
City not found. Skipping
Processing Record 6 of Set 11 | phan rang
City not found. Skipping
Processing Record 7 of Set 11 | lolua
City not found. Skipping
Processing Record 8 of Set 11 | papetoai
Processing Record 9 of Set 11 | ulaanbaatar
Processing Record 10 of Set 11 | coquimbo
Processing Record 11 of Set 11 | tanete
Processing Record 12 of Set 11 | bilibino
Processing Record 13 of Set 11 | marzuq
Processing Record 14 of Set 11 | antofagasta
Processing Record 15 of Set 11 | marica
Processing Record 16 of Set 11 | palana
Processing Record 17 of Set 11 | bandarbeyla
Processing Record 18 of Set 11 | satitoa
City not found. Skipping
Processing Record 19 of Set 11 | kortkeros
Processing Record 20 of Set 11 | san luis
Processing Record 21 of Set 11 | taihe
Processing Record 22 of Set 11 | parras
City not found. Skipping
Processing Record 23 of Set 11 | kieta
Processing Record 24 of Set 11 | srandakan
Processing Record 25 of Set 11 | broken hill
Processing Record 26 of Set 11 | huilong
Processing Record 27 of Set 11 | liwale
Processing Record 28 of Set 11 | meyungs
City not found. Skipping
Processing Record 29 of Set 11 | acapulco
Processing Record 30 of Set 11 | parabel
Processing Record 31 of Set 11 | toyooka
Processing Record 32 of Set 11 | baglung
Processing Record 33 of Set 11 | bereda
Processing Record 34 of Set 11 | port shepstone
Processing Record 35 of Set 11 | kosh-agach
Processing Record 36 of Set 11 | yanan
City not found. Skipping
Processing Record 37 of Set 11 | port hardy
Processing Record 38 of Set 11 | aripuana
Processing Record 39 of Set 11 | piranhas
Processing Record 40 of Set 11 | jaque
Processing Record 41 of Set 11 | sao miguel do araguaia
Processing Record 42 of Set 11 | cochabamba
Processing Record 43 of Set 11 | mehamn
Processing Record 44 of Set 11 | fort dodge
Processing Record 45 of Set 11 | gorom-gorom
Processing Record 46 of Set 11 | noumea
Processing Record 47 of Set 11 | calvia
Processing Record 48 of Set 11 | camocim
Processing Record 49 of Set 11 | kandrian
Processing Record 50 of Set 11 | warora
Processing Record 1 of Set 12 | aransas pass
Processing Record 2 of Set 12 | tarakan
Processing Record 3 of Set 12 | van
Processing Record 4 of Set 12 | verkhnyaya sinyachikha
Processing Record 5 of Set 12 | rio gallegos
Processing Record 6 of Set 12 | nansio
Processing Record 7 of Set 12 | daugavpils
Processing Record 8 of Set 12 | togur
Processing Record 9 of Set 12 | aksu
Processing Record 10 of Set 12 | kidal
Processing Record 11 of Set 12 | tezu
Processing Record 12 of Set 12 | tigil
Processing Record 13 of Set 12 | clyde river
Processing Record 14 of Set 12 | talnakh
Processing Record 15 of Set 12 | ilinsko-podomskoye
City not found. Skipping
Processing Record 16 of Set 12 | duz
City not found. Skipping
Processing Record 17 of Set 12 | asyut
Processing Record 18 of Set 12 | posse
Processing Record 19 of Set 12 | adrar
Processing Record 20 of Set 12 | geraldton
Processing Record 21 of Set 12 | priseaca
Processing Record 22 of Set 12 | arlit
Processing Record 23 of Set 12 | ouargaye
Processing Record 24 of Set 12 | skagastrond
City not found. Skipping
Processing Record 25 of Set 12 | florianopolis
Processing Record 26 of Set 12 | micheweni
Processing Record 27 of Set 12 | rolim de moura
City not found. Skipping
Processing Record 28 of Set 12 | camacupa
Processing Record 29 of Set 12 | pedernales
Processing Record 30 of Set 12 | cartagena del chaira
Processing Record 31 of Set 12 | draguignan
Processing Record 32 of Set 12 | waingapu
Processing Record 33 of Set 12 | dunedin
Processing Record 34 of Set 12 | iguape
Processing Record 35 of Set 12 | shihezi
Processing Record 36 of Set 12 | gat
Processing Record 37 of Set 12 | kualakapuas
Processing Record 38 of Set 12 | touros
Processing Record 39 of Set 12 | leningradskiy
Processing Record 40 of Set 12 | oksovskiy
Processing Record 41 of Set 12 | belyy yar
Processing Record 42 of Set 12 | sosnovskoye
Processing Record 43 of Set 12 | seoul
Processing Record 44 of Set 12 | bathsheba
Processing Record 45 of Set 12 | mecca
Processing Record 46 of Set 12 | haines junction
Processing Record 47 of Set 12 | hami
Processing Record 48 of Set 12 | ankang
Processing Record 49 of Set 12 | namibe
Processing Record 50 of Set 12 | romitan
Processing Record 1 of Set 13 | san javier
Processing Record 2 of Set 13 | verkhovazhye
Processing Record 3 of Set 13 | santiago del estero
Processing Record 4 of Set 13 | pacifica
Processing Record 5 of Set 13 | mareeba
Processing Record 6 of Set 13 | saint-leu
Processing Record 7 of Set 13 | san patricio
Processing Record 8 of Set 13 | mangrol
Processing Record 9 of Set 13 | male
Processing Record 10 of Set 13 | manta
Processing Record 11 of Set 13 | liverpool
Processing Record 12 of Set 13 | terrasini
Processing Record 13 of Set 13 | yatou
Processing Record 14 of Set 13 | ngunguru
Processing Record 15 of Set 13 | santa lucia
Processing Record 16 of Set 13 | grand gaube
Processing Record 17 of Set 13 | lixourion
Processing Record 18 of Set 13 | maumere
Processing Record 19 of Set 13 | kalmunai
Processing Record 20 of Set 13 | talakan
Processing Record 21 of Set 13 | bintulu
Processing Record 22 of Set 13 | trofors
Processing Record 23 of Set 13 | port lincoln
Processing Record 24 of Set 13 | sangueya
Processing Record 25 of Set 13 | iquitos
Processing Record 26 of Set 13 | kirkuk
Processing Record 27 of Set 13 | constitucion
Processing Record 28 of Set 13 | priladozhskiy
Processing Record 29 of Set 13 | fiche
Processing Record 30 of Set 13 | san ciro de acosta
Processing Record 31 of Set 13 | saint-pierre
Processing Record 32 of Set 13 | pingliang
Processing Record 33 of Set 13 | sao pedro do sul
Processing Record 34 of Set 13 | amol
Processing Record 35 of Set 13 | zhigansk
Processing Record 36 of Set 13 | traverse city
Processing Record 37 of Set 13 | nadym
Processing Record 38 of Set 13 | andarab
City not found. Skipping
Processing Record 39 of Set 13 | san miguel
Processing Record 40 of Set 13 | magdagachi
Processing Record 41 of Set 13 | brownsville
Processing Record 42 of Set 13 | anloga
Processing Record 43 of Set 13 | tres arroyos
Processing Record 44 of Set 13 | santa cruz del norte
Processing Record 45 of Set 13 | cabo rojo
Processing Record 46 of Set 13 | chomun
City not found. Skipping
Processing Record 47 of Set 13 | erenhot
Processing Record 48 of Set 13 | mantenopolis
Processing Record 49 of Set 13 | gazli
Processing Record 50 of Set 13 | pafos
Processing Record 1 of Set 14 | lokosovo
Processing Record 2 of Set 14 | olinda
Processing Record 3 of Set 14 | kutum
Processing Record 4 of Set 14 | mikkeli
Processing Record 5 of Set 14 | garowe
Processing Record 6 of Set 14 | kaseda
Processing Record 7 of Set 14 | raudeberg
Processing Record 8 of Set 14 | orsha
Processing Record 9 of Set 14 | savonlinna
Processing Record 10 of Set 14 | poli
Processing Record 11 of Set 14 | alexandria
Processing Record 12 of Set 14 | capreol
Processing Record 13 of Set 14 | kantang
Processing Record 14 of Set 14 | palu
Processing Record 15 of Set 14 | rungata
City not found. Skipping
Processing Record 16 of Set 14 | lingao
Processing Record 17 of Set 14 | dan khun thot
Processing Record 18 of Set 14 | alto araguaia
Processing Record 19 of Set 14 | seoni
Processing Record 20 of Set 14 | ukiah
Processing Record 21 of Set 14 | homer
Processing Record 22 of Set 14 | verkhnyaya inta
Processing Record 23 of Set 14 | tambacounda
Processing Record 24 of Set 14 | mogadishu
Processing Record 25 of Set 14 | ihosy
Processing Record 26 of Set 14 | amga
Processing Record 27 of Set 14 | bud
Processing Record 28 of Set 14 | mayumba
Processing Record 29 of Set 14 | luanda
Processing Record 30 of Set 14 | alofi
Processing Record 31 of Set 14 | auki
Processing Record 32 of Set 14 | linchuan
City not found. Skipping
Processing Record 33 of Set 14 | nova olimpia
Processing Record 34 of Set 14 | mahadday weyne
City not found. Skipping
Processing Record 35 of Set 14 | adeje
Processing Record 36 of Set 14 | loiza
Processing Record 37 of Set 14 | naftalan
Processing Record 38 of Set 14 | prabumulih
Processing Record 39 of Set 14 | totoral
Processing Record 40 of Set 14 | griffith
Processing Record 41 of Set 14 | san angelo
Processing Record 42 of Set 14 | alyangula
Processing Record 43 of Set 14 | manaure
Processing Record 44 of Set 14 | kahului
Processing Record 45 of Set 14 | timra
Processing Record 46 of Set 14 | karasburg
Processing Record 47 of Set 14 | baiyin
Processing Record 48 of Set 14 | sorvag
City not found. Skipping
Processing Record 49 of Set 14 | bihariganj
Processing Record 50 of Set 14 | chumikan
Processing Record 1 of Set 15 | zhangye
Processing Record 2 of Set 15 | dixon
Processing Record 3 of Set 15 | agua verde
Processing Record 4 of Set 15 | saint anthony
Processing Record 5 of Set 15 | kloulklubed
Processing Record 6 of Set 15 | jalu
Processing Record 7 of Set 15 | miyako
Processing Record 8 of Set 15 | rawah
Processing Record 9 of Set 15 | klyuchi
Processing Record 10 of Set 15 | banjar
Processing Record 11 of Set 15 | kuopio
Processing Record 12 of Set 15 | mezhdurechenskiy
Processing Record 13 of Set 15 | puerto palomas
Processing Record 14 of Set 15 | matehuala
Processing Record 15 of Set 15 | mount isa
Processing Record 16 of Set 15 | pierre
Processing Record 17 of Set 15 | labytnangi
Processing Record 18 of Set 15 | mawana
Processing Record 19 of Set 15 | lazaro cardenas
Processing Record 20 of Set 15 | nadvoitsy
Processing Record 21 of Set 15 | moose factory
Processing Record 22 of Set 15 | acarau
Processing Record 23 of Set 15 | livingstone
Processing Record 24 of Set 15 | nalut
Processing Record 25 of Set 15 | rocky mountain house
Processing Record 26 of Set 15 | mixtepec
City not found. Skipping
Processing Record 27 of Set 15 | agadez
Processing Record 28 of Set 15 | san juan
Processing Record 29 of Set 15 | tual
Processing Record 30 of Set 15 | rovaniemi
Processing Record 31 of Set 15 | dongsheng
Processing Record 32 of Set 15 | copiapo
Processing Record 33 of Set 15 | burica
City not found. Skipping
Processing Record 34 of Set 15 | kawambwa
Processing Record 35 of Set 15 | serdobsk
Processing Record 36 of Set 15 | egvekinot
Processing Record 37 of Set 15 | san miguel el alto
Processing Record 38 of Set 15 | jiwani
Processing Record 39 of Set 15 | kyshtovka
Processing Record 40 of Set 15 | pundaguitan
Processing Record 41 of Set 15 | lieksa
Processing Record 42 of Set 15 | takaka
Processing Record 43 of Set 15 | marsala
Processing Record 44 of Set 15 | nizwa
Processing Record 45 of Set 15 | nador
Processing Record 46 of Set 15 | obera
Processing Record 47 of Set 15 | swidnica
Processing Record 48 of Set 15 | ginda
Processing Record 49 of Set 15 | rawannawi
City not found. Skipping
Processing Record 50 of Set 15 | sawtell
Processing Record 1 of Set 16 | krasnogvardeyskiy
Processing Record 2 of Set 16 | canutama
Processing Record 3 of Set 16 | skalistyy
City not found. Skipping
Processing Record 4 of Set 16 | gamba
Processing Record 5 of Set 16 | kuching
Processing Record 6 of Set 16 | sitka
Processing Record 7 of Set 16 | lakes entrance
Processing Record 8 of Set 16 | chifeng
Processing Record 9 of Set 16 | belo oriente
Processing Record 10 of Set 16 | dangriga
-----------------------------
Data Retrieval Complete      
-----------------------------
#Convert the array of dictionaries to a Pandas DataFrame.
city_data_df = pd.DataFrame(city_data)
city_data_df.head(15)
City	Country	Date	Lat	Lng	Max Temp	Humidity	Cloudiness	Wind Speed	Current Description
0	Port Hueneme	US	2022-07-22 02:17:40	34.1478	-119.1951	89.24	73	0	11.50	clear sky
1	Simbahan	PH	2022-07-22 02:14:47	6.3032	120.5836	82.67	74	45	2.95	scattered clouds
2	Albany	US	2022-07-22 02:09:37	42.6001	-73.9662	79.45	80	0	3.65	clear sky
3	Komsomolskiy	UZ	2022-07-22 02:09:19	40.4272	71.7189	83.12	30	0	9.22	clear sky
4	Lewistown	US	2022-07-22 02:17:41	40.5992	-77.5714	75.72	100	100	3.44	overcast clouds
5	Cape Town	ZA	2022-07-22 02:07:06	-33.9258	18.4232	57.38	82	100	1.01	overcast clouds
6	Puerto Ayora	EC	2022-07-22 02:10:13	-0.7393	-90.3518	68.56	95	69	5.01	broken clouds
7	Vaini	TO	2022-07-22 02:09:49	-21.2000	-175.2000	74.05	76	43	11.81	scattered clouds
8	Bredasdorp	ZA	2022-07-22 02:10:00	-34.5322	20.0403	46.96	83	100	4.54	overcast clouds
9	Chimore	BO	2022-07-22 02:17:41	-16.9833	-65.1333	74.16	69	100	2.33	overcast clouds
10	Upernavik	GL	2022-07-22 02:09:48	72.7868	-56.1549	44.11	97	100	22.21	light rain
11	Lerwick	GB	2022-07-22 02:17:42	60.1545	-1.1494	50.00	87	68	8.97	broken clouds
12	Berlevag	NO	2022-07-22 02:11:04	70.8578	29.0864	55.35	88	100	17.27	light intensity drizzle
13	Bluff	NZ	2022-07-22 02:09:36	-46.6000	168.3333	43.81	71	99	7.72	overcast clouds
14	Avera	US	2022-07-22 02:06:50	33.1940	-82.5271	80.11	82	95	7.63	overcast clouds
#Create CSV file to export the new DataFrame
csv_weather_file = "weatherpy_database.csv"
# Export the new DataFrame as CSV file 
city_data_df.to_csv(csv_weather_file, index_label="City_ID")
#saved file
